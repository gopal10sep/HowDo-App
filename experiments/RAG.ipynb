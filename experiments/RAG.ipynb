{
 "cells": [
  {
   "cell_type": "code",
   "execution_count": 2,
   "metadata": {},
   "outputs": [],
   "source": [
    "# ! pip install python-dotenv\n",
    "# ! pip install selenium\n",
    "# ! pip install tiktoken\n",
    "# ! pip install pinecone-client[grpc]\n",
    "# ! pip install openai\n",
    "# ! pip install langchain"
   ]
  },
  {
   "cell_type": "markdown",
   "metadata": {},
   "source": [
    "### Get Env Keys"
   ]
  },
  {
   "cell_type": "code",
   "execution_count": 201,
   "metadata": {},
   "outputs": [],
   "source": [
    "import os\n",
    "import getpass\n",
    "from tqdm.auto import tqdm\n",
    "from dotenv import load_dotenv\n",
    "import pandas as pd\n",
    "import tiktoken\n",
    "\n",
    "from selenium import webdriver\n",
    "from selenium.webdriver.common.by import By\n",
    "from selenium.webdriver.chrome.service import Service\n",
    "from selenium.webdriver.chrome.options import Options\n",
    "from selenium.webdriver.support.ui import WebDriverWait\n",
    "from selenium.webdriver.support import expected_conditions as EC\n",
    "\n",
    "load_dotenv()\n",
    "\n",
    "gemini_key = os.getenv(\"GOOGLE_API_KEY\")\n",
    "pinecone_key = os.getenv(\"PINECONE_API_KEY\")\n",
    "supabase_key = os.getenv(\"SUPABASE_API_KEY\")\n",
    "\n",
    "if \"GOOGLE_API_KEY\" not in os.environ:\n",
    "    os.environ[\"GOOGLE_API_KEY\"] = getpass.getpass(\"Provide your Google API Key\")"
   ]
  },
  {
   "cell_type": "markdown",
   "metadata": {},
   "source": [
    "### All things Scraping"
   ]
  },
  {
   "cell_type": "code",
   "execution_count": 4,
   "metadata": {},
   "outputs": [],
   "source": [
    "\n",
    "# List of URLs to scrape\n",
    "urls = [\n",
    "    \"https://howdo.com/masterclass/mindset/growth-mindset/\",\n",
    "    \"https://howdo.com/masterclass/mindset/resilience/\",\n",
    "    \"https://howdo.com/masterclass/mindset/continuous-learning/\",\n",
    "    \"https://howdo.com/masterclass/mindset/data-driven-decisions/\",\n",
    "    \"https://howdo.com/masterclass/plan/customer-analysis/\",\n",
    "    \"https://howdo.com/masterclass/plan/competition-analysis/\",\n",
    "    \"https://howdo.com/masterclass/plan/market-analysis/\",\n",
    "    \"https://howdo.com/masterclass/plan/solution-analysis/\",\n",
    "    \"https://howdo.com/masterclass/plan/build-buy-partner-analysis/\",\n",
    "    \"https://howdo.com/masterclass/tools/key-performance-indicators-kpis/\",\n",
    "    \"https://howdo.com/masterclass/mindset/weekly-business-reviews/\",\n",
    "    \"https://howdo.com/masterclass/tools/product-management/\",\n",
    "    \"https://howdo.com/masterclass/tools/startup-accelerator/\",\n",
    "    \"https://howdo.com/masterclass/tools/business-incubator/\",\n",
    "    \"https://howdo.com/masterclass/tools/mergers-and-acquisitions/\",\n",
    "    \"https://howdo.com/masterclass/tools/research-and-development/\",\n",
    "    \"https://howdo.com/masterclass/team/talent-acquisition/\",\n",
    "    \"https://howdo.com/masterclass/team/corporate-culture/\",\n",
    "    \"https://howdo.com/masterclass/team/team-experience/\",\n",
    "    \"https://howdo.com/masterclass/team/mentorship/\",\n",
    "    \"https://howdo.com/masterclass/team/communities-of-practice/\"\n",
    "]"
   ]
  },
  {
   "cell_type": "code",
   "execution_count": 5,
   "metadata": {},
   "outputs": [],
   "source": [
    "\n",
    "\n",
    "df = pd.DataFrame(columns=['Topic', 'Subtopic', 'URL', 'Text', 'Total Token'])\n",
    "tokenizer = tiktoken.get_encoding('cl100k_base')\n",
    "\n",
    "def get_topics_from_url(url):\n",
    "    parts = url.split('/')\n",
    "    if len(parts) > 4:\n",
    "        return parts[4], parts[5]\n",
    "    return '', ''"
   ]
  },
  {
   "cell_type": "code",
   "execution_count": 30,
   "metadata": {},
   "outputs": [],
   "source": [
    "driver = webdriver.Chrome()"
   ]
  },
  {
   "cell_type": "code",
   "execution_count": 38,
   "metadata": {},
   "outputs": [
    {
     "name": "stdout",
     "output_type": "stream",
     "text": [
      "Working on URL: https://howdo.com/masterclass/mindset/growth-mindset/\n",
      "Working on URL: https://howdo.com/masterclass/mindset/resilience/\n",
      "Working on URL: https://howdo.com/masterclass/mindset/continuous-learning/\n",
      "Working on URL: https://howdo.com/masterclass/mindset/data-driven-decisions/\n",
      "Working on URL: https://howdo.com/masterclass/plan/customer-analysis/\n",
      "Working on URL: https://howdo.com/masterclass/plan/competition-analysis/\n",
      "Working on URL: https://howdo.com/masterclass/plan/market-analysis/\n",
      "Working on URL: https://howdo.com/masterclass/plan/solution-analysis/\n",
      "Working on URL: https://howdo.com/masterclass/plan/build-buy-partner-analysis/\n",
      "Working on URL: https://howdo.com/masterclass/tools/key-performance-indicators-kpis/\n",
      "Working on URL: https://howdo.com/masterclass/mindset/weekly-business-reviews/\n",
      "Working on URL: https://howdo.com/masterclass/tools/product-management/\n",
      "Working on URL: https://howdo.com/masterclass/tools/startup-accelerator/\n",
      "Working on URL: https://howdo.com/masterclass/tools/business-incubator/\n",
      "Working on URL: https://howdo.com/masterclass/tools/mergers-and-acquisitions/\n",
      "Working on URL: https://howdo.com/masterclass/tools/research-and-development/\n",
      "Working on URL: https://howdo.com/masterclass/team/talent-acquisition/\n",
      "Working on URL: https://howdo.com/masterclass/team/corporate-culture/\n",
      "Working on URL: https://howdo.com/masterclass/team/team-experience/\n",
      "Working on URL: https://howdo.com/masterclass/team/mentorship/\n",
      "Working on URL: https://howdo.com/masterclass/team/communities-of-practice/\n"
     ]
    }
   ],
   "source": [
    "# Scrape each URL and populate the dataframe\n",
    "for url in urls:\n",
    "    print(\"Working on URL: \" + url)\n",
    "    masterclass_topic, subtopic = get_topics_from_url(url)\n",
    "    \n",
    "    driver.get(url)\n",
    "    try:\n",
    "        # Increase the timeout to 20 seconds\n",
    "        element = WebDriverWait(driver, 20).until(\n",
    "            EC.visibility_of_element_located((By.CSS_SELECTOR, 'div.wp-block-column.right-side-content'))\n",
    "        )\n",
    "        text = element.text.strip()\n",
    "        total_token = len(tokenizer.encode(text))\n",
    "        \n",
    "        # Create a new row\n",
    "        new_row = {\n",
    "            'Topic': masterclass_topic,\n",
    "            'Subtopic': subtopic,\n",
    "            'URL': url,\n",
    "            'Text': text,\n",
    "            'Total Token': total_token\n",
    "        }\n",
    "\n",
    "        # Add the new row to the DataFrame\n",
    "        df = pd.concat([df, pd.DataFrame([new_row])], ignore_index=True)\n",
    "    except TimeoutException:\n",
    "        print(f\"Timeout while waiting for element at {url}\")\n",
    "    except Exception as e:\n",
    "        print(f\"An error occurred: {e}\")"
   ]
  },
  {
   "cell_type": "code",
   "execution_count": 51,
   "metadata": {},
   "outputs": [],
   "source": [
    "driver.quit()"
   ]
  },
  {
   "cell_type": "code",
   "execution_count": 7,
   "metadata": {},
   "outputs": [
    {
     "data": {
      "text/html": [
       "<div>\n",
       "<style scoped>\n",
       "    .dataframe tbody tr th:only-of-type {\n",
       "        vertical-align: middle;\n",
       "    }\n",
       "\n",
       "    .dataframe tbody tr th {\n",
       "        vertical-align: top;\n",
       "    }\n",
       "\n",
       "    .dataframe thead th {\n",
       "        text-align: right;\n",
       "    }\n",
       "</style>\n",
       "<table border=\"1\" class=\"dataframe\">\n",
       "  <thead>\n",
       "    <tr style=\"text-align: right;\">\n",
       "      <th></th>\n",
       "      <th>Topic</th>\n",
       "      <th>Subtopic</th>\n",
       "      <th>URL</th>\n",
       "      <th>Text</th>\n",
       "      <th>Total Token</th>\n",
       "    </tr>\n",
       "  </thead>\n",
       "  <tbody>\n",
       "    <tr>\n",
       "      <th>0</th>\n",
       "      <td>mindset</td>\n",
       "      <td>growth-mindset</td>\n",
       "      <td>https://howdo.com/masterclass/mindset/growth-m...</td>\n",
       "      <td>Igniting Business Evolution: Building Your Gro...</td>\n",
       "      <td>6439</td>\n",
       "    </tr>\n",
       "    <tr>\n",
       "      <th>1</th>\n",
       "      <td>mindset</td>\n",
       "      <td>resilience</td>\n",
       "      <td>https://howdo.com/masterclass/mindset/resilience/</td>\n",
       "      <td>Resilience\\nUnlock the power of resilience in ...</td>\n",
       "      <td>7400</td>\n",
       "    </tr>\n",
       "    <tr>\n",
       "      <th>2</th>\n",
       "      <td>mindset</td>\n",
       "      <td>continuous-learning</td>\n",
       "      <td>https://howdo.com/masterclass/mindset/continuo...</td>\n",
       "      <td>Continuous Learning\\nEmbark on a transformativ...</td>\n",
       "      <td>5021</td>\n",
       "    </tr>\n",
       "    <tr>\n",
       "      <th>3</th>\n",
       "      <td>mindset</td>\n",
       "      <td>data-driven-decisions</td>\n",
       "      <td>https://howdo.com/masterclass/mindset/data-dri...</td>\n",
       "      <td>Data-Driven Decisions\\nElevate your leadership...</td>\n",
       "      <td>6359</td>\n",
       "    </tr>\n",
       "    <tr>\n",
       "      <th>4</th>\n",
       "      <td>plan</td>\n",
       "      <td>customer-analysis</td>\n",
       "      <td>https://howdo.com/masterclass/plan/customer-an...</td>\n",
       "      <td>1. Introduction\\nYou will dive deep into your ...</td>\n",
       "      <td>13880</td>\n",
       "    </tr>\n",
       "  </tbody>\n",
       "</table>\n",
       "</div>"
      ],
      "text/plain": [
       "     Topic               Subtopic  \\\n",
       "0  mindset         growth-mindset   \n",
       "1  mindset             resilience   \n",
       "2  mindset    continuous-learning   \n",
       "3  mindset  data-driven-decisions   \n",
       "4     plan      customer-analysis   \n",
       "\n",
       "                                                 URL  \\\n",
       "0  https://howdo.com/masterclass/mindset/growth-m...   \n",
       "1  https://howdo.com/masterclass/mindset/resilience/   \n",
       "2  https://howdo.com/masterclass/mindset/continuo...   \n",
       "3  https://howdo.com/masterclass/mindset/data-dri...   \n",
       "4  https://howdo.com/masterclass/plan/customer-an...   \n",
       "\n",
       "                                                Text  Total Token  \n",
       "0  Igniting Business Evolution: Building Your Gro...         6439  \n",
       "1  Resilience\\nUnlock the power of resilience in ...         7400  \n",
       "2  Continuous Learning\\nEmbark on a transformativ...         5021  \n",
       "3  Data-Driven Decisions\\nElevate your leadership...         6359  \n",
       "4  1. Introduction\\nYou will dive deep into your ...        13880  "
      ]
     },
     "execution_count": 7,
     "metadata": {},
     "output_type": "execute_result"
    }
   ],
   "source": [
    "df.head()"
   ]
  },
  {
   "cell_type": "code",
   "execution_count": 9,
   "metadata": {},
   "outputs": [],
   "source": [
    "df[['Text','Topic','Subtopic']] = df[['Text','Topic','Subtopic']].astype(str)\n",
    "df['Text'] = df['Text'].str.replace('Print\\n','')"
   ]
  },
  {
   "cell_type": "code",
   "execution_count": null,
   "metadata": {},
   "outputs": [],
   "source": [
    "df.to_csv('scraped_data.csv', index=False)"
   ]
  },
  {
   "cell_type": "code",
   "execution_count": null,
   "metadata": {},
   "outputs": [],
   "source": []
  },
  {
   "cell_type": "markdown",
   "metadata": {},
   "source": [
    "### Vectorisation of Scraped Data"
   ]
  },
  {
   "cell_type": "code",
   "execution_count": 202,
   "metadata": {},
   "outputs": [
    {
     "data": {
      "text/plain": [
       "Index(['Topic', 'Subtopic', 'URL', 'Text', 'Total Token'], dtype='object')"
      ]
     },
     "execution_count": 202,
     "metadata": {},
     "output_type": "execute_result"
    }
   ],
   "source": [
    "df = pd.read_csv('scraped_data.csv')\n",
    "df.columns"
   ]
  },
  {
   "cell_type": "code",
   "execution_count": 203,
   "metadata": {},
   "outputs": [
    {
     "data": {
      "text/html": [
       "<div>\n",
       "<style scoped>\n",
       "    .dataframe tbody tr th:only-of-type {\n",
       "        vertical-align: middle;\n",
       "    }\n",
       "\n",
       "    .dataframe tbody tr th {\n",
       "        vertical-align: top;\n",
       "    }\n",
       "\n",
       "    .dataframe thead th {\n",
       "        text-align: right;\n",
       "    }\n",
       "</style>\n",
       "<table border=\"1\" class=\"dataframe\">\n",
       "  <thead>\n",
       "    <tr style=\"text-align: right;\">\n",
       "      <th></th>\n",
       "      <th>Topic</th>\n",
       "      <th>Subtopic</th>\n",
       "      <th>URL</th>\n",
       "      <th>Text</th>\n",
       "      <th>Total Token</th>\n",
       "    </tr>\n",
       "  </thead>\n",
       "  <tbody>\n",
       "    <tr>\n",
       "      <th>0</th>\n",
       "      <td>mindset</td>\n",
       "      <td>growth-mindset</td>\n",
       "      <td>https://howdo.com/masterclass/mindset/growth-m...</td>\n",
       "      <td>Igniting Business Evolution: Building Your Gro...</td>\n",
       "      <td>6439</td>\n",
       "    </tr>\n",
       "    <tr>\n",
       "      <th>1</th>\n",
       "      <td>mindset</td>\n",
       "      <td>resilience</td>\n",
       "      <td>https://howdo.com/masterclass/mindset/resilience/</td>\n",
       "      <td>Resilience\\nUnlock the power of resilience in ...</td>\n",
       "      <td>7400</td>\n",
       "    </tr>\n",
       "    <tr>\n",
       "      <th>2</th>\n",
       "      <td>mindset</td>\n",
       "      <td>continuous-learning</td>\n",
       "      <td>https://howdo.com/masterclass/mindset/continuo...</td>\n",
       "      <td>Continuous Learning\\nEmbark on a transformativ...</td>\n",
       "      <td>5021</td>\n",
       "    </tr>\n",
       "    <tr>\n",
       "      <th>3</th>\n",
       "      <td>mindset</td>\n",
       "      <td>data-driven-decisions</td>\n",
       "      <td>https://howdo.com/masterclass/mindset/data-dri...</td>\n",
       "      <td>Data-Driven Decisions\\nElevate your leadership...</td>\n",
       "      <td>6359</td>\n",
       "    </tr>\n",
       "    <tr>\n",
       "      <th>4</th>\n",
       "      <td>plan</td>\n",
       "      <td>customer-analysis</td>\n",
       "      <td>https://howdo.com/masterclass/plan/customer-an...</td>\n",
       "      <td>1. Introduction\\nYou will dive deep into your ...</td>\n",
       "      <td>13880</td>\n",
       "    </tr>\n",
       "  </tbody>\n",
       "</table>\n",
       "</div>"
      ],
      "text/plain": [
       "     Topic               Subtopic  \\\n",
       "0  mindset         growth-mindset   \n",
       "1  mindset             resilience   \n",
       "2  mindset    continuous-learning   \n",
       "3  mindset  data-driven-decisions   \n",
       "4     plan      customer-analysis   \n",
       "\n",
       "                                                 URL  \\\n",
       "0  https://howdo.com/masterclass/mindset/growth-m...   \n",
       "1  https://howdo.com/masterclass/mindset/resilience/   \n",
       "2  https://howdo.com/masterclass/mindset/continuo...   \n",
       "3  https://howdo.com/masterclass/mindset/data-dri...   \n",
       "4  https://howdo.com/masterclass/plan/customer-an...   \n",
       "\n",
       "                                                Text  Total Token  \n",
       "0  Igniting Business Evolution: Building Your Gro...         6439  \n",
       "1  Resilience\\nUnlock the power of resilience in ...         7400  \n",
       "2  Continuous Learning\\nEmbark on a transformativ...         5021  \n",
       "3  Data-Driven Decisions\\nElevate your leadership...         6359  \n",
       "4  1. Introduction\\nYou will dive deep into your ...        13880  "
      ]
     },
     "execution_count": 203,
     "metadata": {},
     "output_type": "execute_result"
    }
   ],
   "source": [
    "df.head()"
   ]
  },
  {
   "cell_type": "markdown",
   "metadata": {},
   "source": [
    "### Intialise and Test LLMs"
   ]
  },
  {
   "cell_type": "code",
   "execution_count": null,
   "metadata": {},
   "outputs": [],
   "source": [
    "from langchain_google_genai import ChatGoogleGenerativeAI\n",
    "from langchain_google_genai import GoogleGenerativeAIEmbeddings\n",
    "from langchain.schema import SystemMessage, HumanMessage, AIMessage\n",
    "from langchain.text_splitter import RecursiveCharacterTextSplitter\n",
    "from pinecone import Pinecone\n",
    "from langchain_pinecone import PineconeVectorStore\n",
    "from langchain.prompts import ChatPromptTemplate\n",
    "from langchain_core.runnables import RunnablePassthrough\n",
    "\n",
    "\n",
    "pc = Pinecone(api_key=pinecone_key)\n",
    "\n",
    "llm = ChatGoogleGenerativeAI(\n",
    "    model=\"gemini-1.5-flash\",\n",
    "    temperature=0,\n",
    ")\n",
    "embed_model = GoogleGenerativeAIEmbeddings(model=\"models/text-embedding-004\")\n",
    "text_splitter = RecursiveCharacterTextSplitter(chunk_size = 512, chunk_overlap=100)"
   ]
  },
  {
   "cell_type": "code",
   "execution_count": 22,
   "metadata": {},
   "outputs": [
    {
     "name": "stdout",
     "output_type": "stream",
     "text": [
      "Photosynthesis is the process by which plants use sunlight, water, and carbon dioxide to create food (sugar) and oxygen. \n",
      "\n"
     ]
    }
   ],
   "source": [
    "result = llm.invoke(\"What is photosynthesis? Tell me in 1 line.\")\n",
    "print(result.content)"
   ]
  },
  {
   "cell_type": "code",
   "execution_count": 23,
   "metadata": {},
   "outputs": [],
   "source": [
    "messages = [\n",
    "    SystemMessage(content=\"You are a helpful assistant.\"),\n",
    "    HumanMessage(content=\"Hi AI, how are you today?\"),\n",
    "    AIMessage(content=\"I'm great thank you. How can I help you?\"),\n",
    "    HumanMessage(content=\"I'd like to understand who won 2011 cricket world cup?\")\n",
    "]\n",
    "res = llm(messages)\n",
    "res.content"
   ]
  },
  {
   "cell_type": "code",
   "execution_count": 52,
   "metadata": {},
   "outputs": [],
   "source": [
    "texts = [\n",
    "    'this is the first chunk of text',\n",
    "    'then another second chunk of text is here'\n",
    "]\n",
    "\n",
    "res = embed_model.embed_documents(texts)\n",
    "print(res)"
   ]
  },
  {
   "cell_type": "code",
   "execution_count": 49,
   "metadata": {},
   "outputs": [
    {
     "data": {
      "text/plain": [
       "(2, 768)"
      ]
     },
     "execution_count": 49,
     "metadata": {},
     "output_type": "execute_result"
    }
   ],
   "source": [
    "len(res), len(res[0])"
   ]
  },
  {
   "cell_type": "code",
   "execution_count": 55,
   "metadata": {},
   "outputs": [],
   "source": [
    "# Print indexes in Pinecone\n",
    "existing_indexes = [\n",
    "    index_info[\"name\"] for index_info in pc.list_indexes()\n",
    "]\n",
    "existing_indexes"
   ]
  },
  {
   "cell_type": "code",
   "execution_count": 143,
   "metadata": {},
   "outputs": [
    {
     "data": {
      "text/plain": [
       "Index(['Topic', 'Subtopic', 'URL', 'Text', 'Total Token'], dtype='object')"
      ]
     },
     "execution_count": 143,
     "metadata": {},
     "output_type": "execute_result"
    }
   ],
   "source": [
    "df.columns"
   ]
  },
  {
   "cell_type": "code",
   "execution_count": 204,
   "metadata": {},
   "outputs": [
    {
     "data": {
      "text/plain": [
       "{'dimension': 768,\n",
       " 'index_fullness': 0.0,\n",
       " 'namespaces': {'': {'vector_count': 2268}},\n",
       " 'total_vector_count': 2268}"
      ]
     },
     "execution_count": 204,
     "metadata": {},
     "output_type": "execute_result"
    }
   ],
   "source": [
    "index_name = \"howdo\"\n",
    "howdo_index = pc.Index(index_name)\n",
    "howdo_index.describe_index_stats()"
   ]
  },
  {
   "cell_type": "code",
   "execution_count": 205,
   "metadata": {},
   "outputs": [],
   "source": [
    "## Intialise a vectorstore from Pinecone\n",
    "# vectorstore = PineconeVectorStore.from_documents(chunk_list, embed_model, index_name=index_name)\n",
    "## Delete all data from a Pinecone Index\n",
    "# howdo_index.delete(delete_all=True)"
   ]
  },
  {
   "cell_type": "markdown",
   "metadata": {},
   "source": [
    "### Vectorisation: Chunking"
   ]
  },
  {
   "cell_type": "code",
   "execution_count": 178,
   "metadata": {},
   "outputs": [
    {
     "name": "stderr",
     "output_type": "stream",
     "text": [
      "  0%|          | 0/21 [00:00<?, ?it/s]"
     ]
    },
    {
     "name": "stderr",
     "output_type": "stream",
     "text": [
      "100%|██████████| 21/21 [00:00<00:00, 129.39it/s]\n"
     ]
    }
   ],
   "source": [
    "chunk_list = []\n",
    "for i in tqdm(range(0,len(df))):\n",
    "    text = df.loc[i,'Text']\n",
    "    metadata = {'URL': df.loc[i,'URL']}\n",
    "    chunk_list+=text_splitter.create_documents([text],[metadata])"
   ]
  },
  {
   "cell_type": "code",
   "execution_count": 179,
   "metadata": {},
   "outputs": [
    {
     "data": {
      "text/plain": [
       "2268"
      ]
     },
     "execution_count": 179,
     "metadata": {},
     "output_type": "execute_result"
    }
   ],
   "source": [
    "len(chunk_list)"
   ]
  },
  {
   "cell_type": "code",
   "execution_count": 180,
   "metadata": {},
   "outputs": [
    {
     "data": {
      "text/plain": [
       "Document(metadata={'URL': 'https://howdo.com/masterclass/mindset/growth-mindset/'}, page_content=\"Igniting Business Evolution: Building Your Growth Mindset\\nUnlock transformative growth in your business journey with our course, inspired by Dr. Carol Dweck's growth mindset philosophy. Dive deep into strategies that fuel innovation, resilience, and adaptability. Empower yourself with tools to propel your career, energize your team, and evolve your business. Ready to ignite your potential?\\nSHARE THIS ON\")"
      ]
     },
     "execution_count": 180,
     "metadata": {},
     "output_type": "execute_result"
    }
   ],
   "source": [
    "chunk_list[0]"
   ]
  },
  {
   "cell_type": "markdown",
   "metadata": {},
   "source": [
    "### Vectorisation: Create Embeddings and Upsert to Pinecone"
   ]
  },
  {
   "cell_type": "code",
   "execution_count": 183,
   "metadata": {},
   "outputs": [],
   "source": [
    "index_name = \"howdo\"\n",
    "vectorstore = PineconeVectorStore.from_documents(chunk_list, embed_model, index_name=index_name)\n",
    "retriever = vectorstore.as_retriever()"
   ]
  },
  {
   "cell_type": "markdown",
   "metadata": {},
   "source": [
    "### Test Vector DB"
   ]
  },
  {
   "cell_type": "code",
   "execution_count": 184,
   "metadata": {},
   "outputs": [],
   "source": [
    "query = \"Why You Need Resilience\""
   ]
  },
  {
   "cell_type": "code",
   "execution_count": 185,
   "metadata": {},
   "outputs": [
    {
     "data": {
      "text/plain": [
       "[Document(metadata={'URL': 'https://howdo.com/masterclass/mindset/resilience/'}, page_content=\"Why You Need Resilience\\nYou face challenges every day. A sudden market shift, a product failure, a critical decision that didn't pan out as expected. These aren't mere obstacles; they're opportunities, provided you have the resilience to see them as such.\\nOvercoming Setbacks: When things go wrong, it's not the end; it's a lesson. Resilient leaders don't dwell on failure. They analyze, learn, and move forward.\"),\n",
       " Document(metadata={'URL': 'https://howdo.com/masterclass/mindset/resilience/'}, page_content=\"Whether you're an aspiring entrepreneur, a seasoned executive, or anyone looking to take their career and life to the next level, this course is designed with you in mind. Resilience is a skill, a mindset, a lifestyle, and a vital part of your professional DNA. By embracing these four strategies, you'll not only navigate the challenging world of business but excel in it.\\nAre you ready to add resilience to your strengths? Let's embark on this exciting journey together.\\nWhy You Need Resilience\"),\n",
       " Document(metadata={'URL': 'https://howdo.com/masterclass/mindset/resilience/'}, page_content=\"Managing Stress: Your role is demanding, but resilience helps you handle stress effectively, keeping you focused on your goals rather than the pressures.\\nLearning from Mistakes: Mistakes are inevitable. Resilient individuals don't shy away from them; they learn from them, transforming errors into enhancements.\\nBuilding Relationships: Trust, rapport, collaboration. Resilience enables you to forge strong connections with your team, clients, and stakeholders, strengthening your entire business ecosystem.\")]"
      ]
     },
     "execution_count": 185,
     "metadata": {},
     "output_type": "execute_result"
    }
   ],
   "source": [
    "vectorstore.similarity_search(query, k=3)"
   ]
  },
  {
   "cell_type": "markdown",
   "metadata": {},
   "source": [
    "### Set Prompt"
   ]
  },
  {
   "cell_type": "code",
   "execution_count": 223,
   "metadata": {},
   "outputs": [],
   "source": [
    "template = \"\"\"You're a helpful AI assistant. Given a user question and context, \\\n",
    "answer the user question and provide citations.\n",
    "If none of the articles answer the question, just say you don't know.\n",
    "\n",
    "Question is inside <query></query> tag.\n",
    "We are also giving you context inside <context></context> tags.\n",
    "\n",
    "Thse contexts are sources from a vector database after running a similarity search.\n",
    "\n",
    "Remember, you must return both an answer and citations. A citation consists of a number \\\n",
    "with a hyperlink to the source URL. Return a citation for every theme sources from the context \\\n",
    "that justify the answer. If possible, insert a VERBATIM quote that \\\n",
    "justifies the answer.\n",
    "\n",
    "Strictly Use the following format for your final output:\n",
    "\n",
    "<div class=\"cited_answer\">\n",
    "    <p class=\"answer\">.....adaf...<a href=\"https://www.google.com\" target=\"_blank\">[1]</a>....afafaf...fafa<a href=\"https://www.google.com\" target=\"_blank\">[2]</a>.</p>\n",
    "    <ul class=\"citations\">\n",
    "        <li class=\"citation\"><a href=\"https://www.google.com\" target=\"_blank\">[1]</a> <q>exect quote- only add if present</q></li>\n",
    "        <li class=\"citation\"><a href=\"https://www.google.com\" target=\"_blank\">[2]</a> <q>exact quote-only add if present</q></li>\n",
    "        ...\n",
    "    </ul>\n",
    "</div>\n",
    "\n",
    "Here are the context articles:{context} \n",
    "\n",
    "Now answer the question:\"\"\"\n",
    "prompt = ChatPromptTemplate.from_messages(\n",
    "    [(\"system\", template), (\"human\", \"{question}\")]\n",
    ")"
   ]
  },
  {
   "cell_type": "markdown",
   "metadata": {},
   "source": [
    "### Setting up Retrieval Chain"
   ]
  },
  {
   "cell_type": "code",
   "execution_count": 224,
   "metadata": {},
   "outputs": [],
   "source": [
    "retrieval_chain = (\n",
    "    {\"context\": retriever, \"question\": RunnablePassthrough()}\n",
    "    | prompt\n",
    "    | llm\n",
    "    | StrOutputParser()\n",
    ")"
   ]
  },
  {
   "cell_type": "code",
   "execution_count": 225,
   "metadata": {},
   "outputs": [],
   "source": [
    "query = \"Why do we Need Resilience\""
   ]
  },
  {
   "cell_type": "code",
   "execution_count": 226,
   "metadata": {},
   "outputs": [],
   "source": [
    "answer = retrieval_chain.invoke(query)"
   ]
  },
  {
   "cell_type": "code",
   "execution_count": 227,
   "metadata": {},
   "outputs": [
    {
     "data": {
      "text/plain": [
       "'<div class=\"cited_answer\">\\n    <p class=\"answer\">Resilience is essential because it helps us overcome challenges and setbacks, manage stress effectively, learn from mistakes, and build strong relationships. <a href=\"https://howdo.com/masterclass/mindset/resilience/\" target=\"_blank\">[1]</a> It allows us to see challenges as opportunities for growth and to turn errors into enhancements. <a href=\"https://howdo.com/masterclass/mindset/resilience/\" target=\"_blank\">[2]</a> Resilience is a long-term strategy that helps us not only survive but thrive in a constantly changing business environment. <a href=\"https://howdo.com/masterclass/mindset/resilience/\" target=\"_blank\">[3]</a></p>\\n    <ul class=\"citations\">\\n        <li class=\"citation\"><a href=\"https://howdo.com/masterclass/mindset/resilience/\" target=\"_blank\">[1]</a> <q>You face challenges every day. A sudden market shift, a product failure, a critical decision that didn\\'t pan out as expected. These aren\\'t mere obstacles; they\\'re opportunities, provided you have the resilience to see them as such.</q></li>\\n        <li class=\"citation\"><a href=\"https://howdo.com/masterclass/mindset/resilience/\" target=\"_blank\">[2]</a> <q>Mistakes are inevitable. Resilient individuals don\\'t shy away from them; they learn from them, transforming errors into enhancements.</q></li>\\n        <li class=\"citation\"><a href=\"https://howdo.com/masterclass/mindset/resilience/\" target=\"_blank\">[3]</a> <q>Coping is a short-term response, but resilience is your long-term strategy. It\\'s the driving force that allows you and your team to not only survive but thrive, to not only react but evolve.</q></li>\\n    </ul>\\n</div>'"
      ]
     },
     "execution_count": 227,
     "metadata": {},
     "output_type": "execute_result"
    }
   ],
   "source": [
    "answer"
   ]
  },
  {
   "cell_type": "code",
   "execution_count": 228,
   "metadata": {},
   "outputs": [],
   "source": [
    "from IPython.display import HTML"
   ]
  },
  {
   "cell_type": "code",
   "execution_count": 229,
   "metadata": {},
   "outputs": [
    {
     "data": {
      "text/html": [
       "<div class=\"cited_answer\">\n",
       "    <p class=\"answer\">Resilience is essential because it helps us overcome challenges and setbacks, manage stress effectively, learn from mistakes, and build strong relationships. <a href=\"https://howdo.com/masterclass/mindset/resilience/\" target=\"_blank\">[1]</a> It allows us to see challenges as opportunities for growth and to turn errors into enhancements. <a href=\"https://howdo.com/masterclass/mindset/resilience/\" target=\"_blank\">[2]</a> Resilience is a long-term strategy that helps us not only survive but thrive in a constantly changing business environment. <a href=\"https://howdo.com/masterclass/mindset/resilience/\" target=\"_blank\">[3]</a></p>\n",
       "    <ul class=\"citations\">\n",
       "        <li class=\"citation\"><a href=\"https://howdo.com/masterclass/mindset/resilience/\" target=\"_blank\">[1]</a> <q>You face challenges every day. A sudden market shift, a product failure, a critical decision that didn't pan out as expected. These aren't mere obstacles; they're opportunities, provided you have the resilience to see them as such.</q></li>\n",
       "        <li class=\"citation\"><a href=\"https://howdo.com/masterclass/mindset/resilience/\" target=\"_blank\">[2]</a> <q>Mistakes are inevitable. Resilient individuals don't shy away from them; they learn from them, transforming errors into enhancements.</q></li>\n",
       "        <li class=\"citation\"><a href=\"https://howdo.com/masterclass/mindset/resilience/\" target=\"_blank\">[3]</a> <q>Coping is a short-term response, but resilience is your long-term strategy. It's the driving force that allows you and your team to not only survive but thrive, to not only react but evolve.</q></li>\n",
       "    </ul>\n",
       "</div>"
      ],
      "text/plain": [
       "<IPython.core.display.HTML object>"
      ]
     },
     "execution_count": 229,
     "metadata": {},
     "output_type": "execute_result"
    }
   ],
   "source": [
    "HTML(answer)"
   ]
  },
  {
   "cell_type": "code",
   "execution_count": null,
   "metadata": {},
   "outputs": [],
   "source": []
  }
 ],
 "metadata": {
  "kernelspec": {
   "display_name": "Python 3",
   "language": "python",
   "name": "python3"
  },
  "language_info": {
   "codemirror_mode": {
    "name": "ipython",
    "version": 3
   },
   "file_extension": ".py",
   "mimetype": "text/x-python",
   "name": "python",
   "nbconvert_exporter": "python",
   "pygments_lexer": "ipython3",
   "version": "3.12.4"
  }
 },
 "nbformat": 4,
 "nbformat_minor": 2
}
